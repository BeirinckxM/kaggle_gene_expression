{
 "cells": [
  {
   "cell_type": "markdown",
   "metadata": {},
   "source": [
    "# READ ME\n",
    "\n",
    "A notebook using the kaggle microarray dataset : https://www.kaggle.com/crawford/gene-expression to classify two types of cancer. There are most likely microarray specific processing approaches (For example in R's Bioconductor), but for now I will consider to dataset as a numerical feature matrix.  "
   ]
  },
  {
   "cell_type": "markdown",
   "metadata": {},
   "source": [
    "# IMPORTS"
   ]
  },
  {
   "cell_type": "code",
   "execution_count": 1,
   "metadata": {},
   "outputs": [],
   "source": [
    "import pandas as pd\n",
    "import numpy as np\n",
    "from sklearn.decomposition import PCA\n",
    "from sklearn.preprocessing import StandardScaler, scale\n",
    "from sklearn.linear_model import LogisticRegression, LassoCV, RidgeClassifierCV\n",
    "from sklearn.metrics import classification_report, confusion_matrix, roc_auc_score\n",
    "from sklearn.neighbors import KNeighborsClassifier\n",
    "from sklearn.svm import SVC, LinearSVC\n",
    "from sklearn.ensemble import RandomForestClassifier\n",
    "from sklearn.neural_network import MLPClassifier\n",
    "from sklearn.naive_bayes import GaussianNB\n",
    "from sklearn.feature_selection import SelectFromModel, VarianceThreshold\n",
    "import matplotlib.pyplot as plt\n",
    "from mpl_toolkits.mplot3d import Axes3D\n",
    "import seaborn as sns; sns.set()\n",
    "%matplotlib inline"
   ]
  },
  {
   "cell_type": "code",
   "execution_count": 1,
   "metadata": {},
   "outputs": [
    {
     "name": "stdout",
     "output_type": "stream",
     "text": [
      "actual.csv                       gene_expression.md\r\n",
      "data_set_ALL_AML_independent.csv output_16_0.png\r\n",
      "data_set_ALL_AML_train.csv       output_21_0.png\r\n",
      "gene_expression.ipynb\r\n"
     ]
    }
   ],
   "source": [
    "#Files\n",
    "!ls"
   ]
  },
  {
   "cell_type": "markdown",
   "metadata": {},
   "source": [
    "# PREPARE THE DATASET"
   ]
  },
  {
   "cell_type": "code",
   "execution_count": 3,
   "metadata": {},
   "outputs": [
    {
     "name": "stdout",
     "output_type": "stream",
     "text": [
      "ALL    47\n",
      "AML    25\n",
      "Name: cancer, dtype: int64\n",
      "\n",
      "Number of samples; (72, 2)\n"
     ]
    }
   ],
   "source": [
    "#Eplore the files\n",
    "cancer_targets = pd.read_csv(\"actual.csv\") #targets\n",
    "print(cancer_targets[\"cancer\"].value_counts())\n",
    "print(\"\\nNumber of samples;\", cancer_targets.shape)"
   ]
  },
  {
   "cell_type": "markdown",
   "metadata": {},
   "source": [
    "- acute myeloid leukemia (AML)\n",
    "- lymphoblastic leukemia (ALL)"
   ]
  },
  {
   "cell_type": "code",
   "execution_count": 4,
   "metadata": {},
   "outputs": [
    {
     "name": "stdout",
     "output_type": "stream",
     "text": [
      "(7129, 78) (7129, 70)\n"
     ]
    }
   ],
   "source": [
    "cancer_train = pd.read_csv(\"data_set_ALL_AML_train.csv\")\n",
    "cancer_test = pd.read_csv(\"data_set_ALL_AML_independent.csv\")\n",
    "\n",
    "print(cancer_train.shape, cancer_test.shape)\n",
    "\n",
    "#There is 72 patients, but shapes are 78 and 70 ?"
   ]
  },
  {
   "cell_type": "markdown",
   "metadata": {},
   "source": [
    "The call columns contain: Present, Absent, and Marginal. This is a detection call by the manufacturer of the DNA Microarray used in the paper. \n",
    "(These values are related to p-values of intensity calls compared to a cutoff noise frequency it seems...). Therefore it seems best to exclude rows where all values are Absent(A) calls, i.e. untrustworthy calls. As a matter of fact it maybe better to completely zero out all A calls. We will see if this is appropriate later. This article has analysed the effect of filtering: https://www.ncbi.nlm.nih.gov/pmc/articles/PMC1409797/"
   ]
  },
  {
   "cell_type": "code",
   "execution_count": 5,
   "metadata": {},
   "outputs": [
    {
     "name": "stdout",
     "output_type": "stream",
     "text": [
      "False    4960\n",
      "True     2169\n",
      "dtype: int64\n"
     ]
    }
   ],
   "source": [
    "#Get the call columns and check if there are genes with all A calls\n",
    "#Then drop these from the df\n",
    "call_columns = [col for col in cancer_train.columns if \"call.\" in col]\n",
    "\n",
    "#We would need to drop around 2210 it seems:\n",
    "cancer_train.filter(call_columns).apply(lambda x: x == 'A').all(axis = 1).value_counts()\n",
    "\n",
    "#Check if there are also samples with all A calls\n",
    "cancer_train.filter(call_columns).apply(lambda x: x == 'A').all(axis = 0).value_counts()\n",
    "#There are none, obviously!\n",
    "\n",
    "#Keep the genes where condition = False, so all genes with low fidelity are dropped\n",
    "cancer_train_PM = cancer_train[~cancer_train.filter(call_columns).apply(lambda x: x == 'A').all(axis = 1)]\n",
    "\n",
    "#Remark: Call column does not always follow immediately after column number!\n",
    "\n",
    "#Same for test set\n",
    "#Maybe not justified!\n",
    "call_columns = [col for col in cancer_test.columns if \"call.\" in col]\n",
    "print(cancer_test.filter(call_columns).apply(lambda x: x == 'A').all(axis = 1).value_counts())\n",
    "cancer_test.filter(call_columns).apply(lambda x: x == 'A').all(axis = 0).value_counts()\n",
    "cancer_test_PM = cancer_test[~cancer_test.filter(call_columns).apply(lambda x: x == 'A').all(axis = 1)]"
   ]
  },
  {
   "cell_type": "code",
   "execution_count": 6,
   "metadata": {},
   "outputs": [
    {
     "name": "stdout",
     "output_type": "stream",
     "text": [
      "(4919, 78) (4960, 70)\n"
     ]
    }
   ],
   "source": [
    "#Current shape of the dfs\n",
    "print(cancer_train_PM.shape, cancer_test_PM.shape)"
   ]
  },
  {
   "cell_type": "code",
   "execution_count": 7,
   "metadata": {},
   "outputs": [
    {
     "name": "stdout",
     "output_type": "stream",
     "text": [
      "(76, 4660) (68, 4687)\n"
     ]
    }
   ],
   "source": [
    "#Prepare for merging test and train set\n",
    "#I prefer to merge because the test and train set will have the same genes, With erroreous measurements removed from both df. Might change later...\n",
    "cancer_train_PM = cancer_train_PM.T\n",
    "cancer_train_PM.columns = cancer_train_PM.iloc[0] #change the header\n",
    "cancer_train_PM = cancer_train_PM[2:]\n",
    "cancer_train_PM['set'] = 'Train'\n",
    "cancer_train_PM.reset_index(inplace=True)\n",
    "cancer_train_PM.rename({'index':'patient'}, axis=1, inplace=True) #merge ID\n",
    "cancer_train_PM = cancer_train_PM.loc[:,~cancer_train_PM.columns.duplicated()] #duplicated columns in the dataset :/\n",
    "\n",
    "\n",
    "cancer_test_PM = cancer_test_PM.T\n",
    "cancer_test_PM.columns = cancer_test_PM.iloc[0]\n",
    "cancer_test_PM = cancer_test_PM[2:]\n",
    "cancer_test_PM['set'] = 'Test'\n",
    "cancer_test_PM.reset_index(inplace=True)\n",
    "cancer_test_PM.rename({'index':'patient'}, axis=1, inplace=True)\n",
    "cancer_test_PM = cancer_test_PM.loc[:,~cancer_test_PM.columns.duplicated()]\n",
    "\n",
    "print(cancer_train_PM.shape, cancer_test_PM.shape)\n",
    "\n",
    "#Vertical stack of train and test set so the result has all shared genes (inner join)\n",
    "vertical_stack = pd.concat([cancer_train_PM, cancer_test_PM], join=\"inner\", keys=['Train', 'Test']) "
   ]
  },
  {
   "cell_type": "code",
   "execution_count": 8,
   "metadata": {},
   "outputs": [
    {
     "name": "stdout",
     "output_type": "stream",
     "text": [
      "True\n"
     ]
    }
   ],
   "source": [
    "#Prepare dfs for merging on same patient column. Has to both be 'str' dtypes to make this work\n",
    "cancer_targets = cancer_targets.astype({'patient': 'str'})\n",
    "vertical_stack.patient = vertical_stack.patient.astype('str')\n",
    "print(cancer_targets['patient'].dtype == vertical_stack['patient'].dtype)\n",
    "\n",
    "#Horizontal Merge with the targets. Prioritize targets for merge\n",
    "horizontal_merge = pd.merge(vertical_stack,cancer_targets, on='patient', how='inner')"
   ]
  },
  {
   "cell_type": "code",
   "execution_count": 9,
   "metadata": {},
   "outputs": [],
   "source": [
    "#Assign train and test sets\n",
    "dftrain = horizontal_merge[horizontal_merge['set'] == 'Train'].iloc[:,1:-2]\n",
    "train_target = horizontal_merge[horizontal_merge['set'] == 'Train'].iloc[:,-1]\n",
    "dftest = horizontal_merge[horizontal_merge['set'] == 'Test'].iloc[:,1:-2]\n",
    "test_target = horizontal_merge[horizontal_merge['set'] == 'Test'].iloc[:,-1]"
   ]
  },
  {
   "cell_type": "code",
   "execution_count": 10,
   "metadata": {},
   "outputs": [
    {
     "data": {
      "text/html": [
       "<div>\n",
       "<style scoped>\n",
       "    .dataframe tbody tr th:only-of-type {\n",
       "        vertical-align: middle;\n",
       "    }\n",
       "\n",
       "    .dataframe tbody tr th {\n",
       "        vertical-align: top;\n",
       "    }\n",
       "\n",
       "    .dataframe thead th {\n",
       "        text-align: right;\n",
       "    }\n",
       "</style>\n",
       "<table border=\"1\" class=\"dataframe\">\n",
       "  <thead>\n",
       "    <tr style=\"text-align: right;\">\n",
       "      <th></th>\n",
       "      <th>AFFX-BioC-5_at (endogenous control)</th>\n",
       "      <th>hum_alu_at (miscellaneous control)</th>\n",
       "      <th>AFFX-DapX-M_at (endogenous control)</th>\n",
       "      <th>AFFX-LysX-5_at (endogenous control)</th>\n",
       "      <th>AFFX-HUMISGF3A/M97935_MB_at (endogenous control)</th>\n",
       "      <th>AFFX-HUMISGF3A/M97935_3_at (endogenous control)</th>\n",
       "      <th>AFFX-HUMRGE/M10098_5_at (endogenous control)</th>\n",
       "      <th>AFFX-HUMRGE/M10098_M_at (endogenous control)</th>\n",
       "      <th>AFFX-HUMRGE/M10098_3_at (endogenous control)</th>\n",
       "      <th>AFFX-HUMGAPDH/M33197_5_at (endogenous control)</th>\n",
       "      <th>...</th>\n",
       "      <th>HLA CLASS II HISTOCOMPATIBILITY ANTIGEN; DQ(W1.1) BETA CHAIN PRECURSOR</th>\n",
       "      <th>Integrase gene extracted from Human endogenous retrovirus H clone g10.34 integrase and putative envelope protein genes; partial cds</th>\n",
       "      <th>Ifp35 gene extracted from Human BRCA1; Rho7 and vatI genes; and ipf35 gene; partial cds</th>\n",
       "      <th>INHA Inhibin; alpha</th>\n",
       "      <th>S100A9 S100 calcium-binding protein A9 (calgranulin B)</th>\n",
       "      <th>PLGL Plasminogen-like protein</th>\n",
       "      <th>Transcription factor Stat5b (stat5b) mRNA</th>\n",
       "      <th>Breast epithelial antigen BA46 mRNA</th>\n",
       "      <th>TUBULIN ALPHA-4 CHAIN</th>\n",
       "      <th>GB DEF = Glycophorin Sta (type A) exons 3 and 4; partial</th>\n",
       "    </tr>\n",
       "  </thead>\n",
       "  <tbody>\n",
       "    <tr>\n",
       "      <th>0</th>\n",
       "      <td>88</td>\n",
       "      <td>15091</td>\n",
       "      <td>311</td>\n",
       "      <td>21</td>\n",
       "      <td>215</td>\n",
       "      <td>797</td>\n",
       "      <td>14538</td>\n",
       "      <td>9738</td>\n",
       "      <td>8529</td>\n",
       "      <td>15076</td>\n",
       "      <td>...</td>\n",
       "      <td>2762</td>\n",
       "      <td>346</td>\n",
       "      <td>349</td>\n",
       "      <td>61</td>\n",
       "      <td>273</td>\n",
       "      <td>384</td>\n",
       "      <td>185</td>\n",
       "      <td>511</td>\n",
       "      <td>389</td>\n",
       "      <td>191</td>\n",
       "    </tr>\n",
       "    <tr>\n",
       "      <th>1</th>\n",
       "      <td>283</td>\n",
       "      <td>11038</td>\n",
       "      <td>134</td>\n",
       "      <td>-21</td>\n",
       "      <td>116</td>\n",
       "      <td>433</td>\n",
       "      <td>615</td>\n",
       "      <td>115</td>\n",
       "      <td>1518</td>\n",
       "      <td>19448</td>\n",
       "      <td>...</td>\n",
       "      <td>1567</td>\n",
       "      <td>290</td>\n",
       "      <td>214</td>\n",
       "      <td>-28</td>\n",
       "      <td>143</td>\n",
       "      <td>231</td>\n",
       "      <td>169</td>\n",
       "      <td>837</td>\n",
       "      <td>442</td>\n",
       "      <td>76</td>\n",
       "    </tr>\n",
       "    <tr>\n",
       "      <th>2</th>\n",
       "      <td>309</td>\n",
       "      <td>16692</td>\n",
       "      <td>378</td>\n",
       "      <td>67</td>\n",
       "      <td>476</td>\n",
       "      <td>1474</td>\n",
       "      <td>5669</td>\n",
       "      <td>3272</td>\n",
       "      <td>3668</td>\n",
       "      <td>27410</td>\n",
       "      <td>...</td>\n",
       "      <td>1090</td>\n",
       "      <td>220</td>\n",
       "      <td>464</td>\n",
       "      <td>513</td>\n",
       "      <td>238</td>\n",
       "      <td>720</td>\n",
       "      <td>315</td>\n",
       "      <td>1199</td>\n",
       "      <td>168</td>\n",
       "      <td>228</td>\n",
       "    </tr>\n",
       "    <tr>\n",
       "      <th>3</th>\n",
       "      <td>12</td>\n",
       "      <td>15763</td>\n",
       "      <td>268</td>\n",
       "      <td>43</td>\n",
       "      <td>155</td>\n",
       "      <td>415</td>\n",
       "      <td>4850</td>\n",
       "      <td>2293</td>\n",
       "      <td>2569</td>\n",
       "      <td>14920</td>\n",
       "      <td>...</td>\n",
       "      <td>1708</td>\n",
       "      <td>430</td>\n",
       "      <td>342</td>\n",
       "      <td>142</td>\n",
       "      <td>277</td>\n",
       "      <td>307</td>\n",
       "      <td>240</td>\n",
       "      <td>835</td>\n",
       "      <td>174</td>\n",
       "      <td>126</td>\n",
       "    </tr>\n",
       "    <tr>\n",
       "      <th>4</th>\n",
       "      <td>168</td>\n",
       "      <td>18128</td>\n",
       "      <td>118</td>\n",
       "      <td>-8</td>\n",
       "      <td>122</td>\n",
       "      <td>483</td>\n",
       "      <td>1284</td>\n",
       "      <td>2731</td>\n",
       "      <td>316</td>\n",
       "      <td>14653</td>\n",
       "      <td>...</td>\n",
       "      <td>1503</td>\n",
       "      <td>159</td>\n",
       "      <td>159</td>\n",
       "      <td>71</td>\n",
       "      <td>134</td>\n",
       "      <td>178</td>\n",
       "      <td>156</td>\n",
       "      <td>649</td>\n",
       "      <td>504</td>\n",
       "      <td>56</td>\n",
       "    </tr>\n",
       "  </tbody>\n",
       "</table>\n",
       "<p>5 rows × 4332 columns</p>\n",
       "</div>"
      ],
      "text/plain": [
       "  AFFX-BioC-5_at (endogenous control) hum_alu_at (miscellaneous control)  \\\n",
       "0                                  88                              15091   \n",
       "1                                 283                              11038   \n",
       "2                                 309                              16692   \n",
       "3                                  12                              15763   \n",
       "4                                 168                              18128   \n",
       "\n",
       "  AFFX-DapX-M_at (endogenous control) AFFX-LysX-5_at (endogenous control)  \\\n",
       "0                                 311                                  21   \n",
       "1                                 134                                 -21   \n",
       "2                                 378                                  67   \n",
       "3                                 268                                  43   \n",
       "4                                 118                                  -8   \n",
       "\n",
       "  AFFX-HUMISGF3A/M97935_MB_at (endogenous control)  \\\n",
       "0                                              215   \n",
       "1                                              116   \n",
       "2                                              476   \n",
       "3                                              155   \n",
       "4                                              122   \n",
       "\n",
       "  AFFX-HUMISGF3A/M97935_3_at (endogenous control)  \\\n",
       "0                                             797   \n",
       "1                                             433   \n",
       "2                                            1474   \n",
       "3                                             415   \n",
       "4                                             483   \n",
       "\n",
       "  AFFX-HUMRGE/M10098_5_at (endogenous control)  \\\n",
       "0                                        14538   \n",
       "1                                          615   \n",
       "2                                         5669   \n",
       "3                                         4850   \n",
       "4                                         1284   \n",
       "\n",
       "  AFFX-HUMRGE/M10098_M_at (endogenous control)  \\\n",
       "0                                         9738   \n",
       "1                                          115   \n",
       "2                                         3272   \n",
       "3                                         2293   \n",
       "4                                         2731   \n",
       "\n",
       "  AFFX-HUMRGE/M10098_3_at (endogenous control)  \\\n",
       "0                                         8529   \n",
       "1                                         1518   \n",
       "2                                         3668   \n",
       "3                                         2569   \n",
       "4                                          316   \n",
       "\n",
       "  AFFX-HUMGAPDH/M33197_5_at (endogenous control)  ...  \\\n",
       "0                                          15076  ...   \n",
       "1                                          19448  ...   \n",
       "2                                          27410  ...   \n",
       "3                                          14920  ...   \n",
       "4                                          14653  ...   \n",
       "\n",
       "  HLA CLASS II HISTOCOMPATIBILITY ANTIGEN; DQ(W1.1) BETA CHAIN PRECURSOR  \\\n",
       "0                                               2762                       \n",
       "1                                               1567                       \n",
       "2                                               1090                       \n",
       "3                                               1708                       \n",
       "4                                               1503                       \n",
       "\n",
       "  Integrase gene extracted from Human endogenous retrovirus H clone g10.34 integrase and putative envelope protein genes; partial cds  \\\n",
       "0                                                346                                                                                    \n",
       "1                                                290                                                                                    \n",
       "2                                                220                                                                                    \n",
       "3                                                430                                                                                    \n",
       "4                                                159                                                                                    \n",
       "\n",
       "  Ifp35 gene extracted from Human BRCA1; Rho7 and vatI genes; and ipf35 gene; partial cds  \\\n",
       "0                                                349                                        \n",
       "1                                                214                                        \n",
       "2                                                464                                        \n",
       "3                                                342                                        \n",
       "4                                                159                                        \n",
       "\n",
       "  INHA Inhibin; alpha S100A9 S100 calcium-binding protein A9 (calgranulin B)  \\\n",
       "0                  61                                                273       \n",
       "1                 -28                                                143       \n",
       "2                 513                                                238       \n",
       "3                 142                                                277       \n",
       "4                  71                                                134       \n",
       "\n",
       "  PLGL Plasminogen-like protein Transcription factor Stat5b (stat5b) mRNA  \\\n",
       "0                           384                                       185   \n",
       "1                           231                                       169   \n",
       "2                           720                                       315   \n",
       "3                           307                                       240   \n",
       "4                           178                                       156   \n",
       "\n",
       "  Breast epithelial antigen BA46 mRNA TUBULIN ALPHA-4 CHAIN  \\\n",
       "0                                 511                   389   \n",
       "1                                 837                   442   \n",
       "2                                1199                   168   \n",
       "3                                 835                   174   \n",
       "4                                 649                   504   \n",
       "\n",
       "  GB DEF = Glycophorin Sta (type A) exons 3 and 4; partial  \n",
       "0                                                191        \n",
       "1                                                 76        \n",
       "2                                                228        \n",
       "3                                                126        \n",
       "4                                                 56        \n",
       "\n",
       "[5 rows x 4332 columns]"
      ]
     },
     "execution_count": 10,
     "metadata": {},
     "output_type": "execute_result"
    }
   ],
   "source": [
    "dftrain.head(5)"
   ]
  },
  {
   "cell_type": "markdown",
   "metadata": {},
   "source": [
    "# PREPROCESSING AND FEATURE SELECTION"
   ]
  },
  {
   "cell_type": "code",
   "execution_count": 11,
   "metadata": {},
   "outputs": [
    {
     "data": {
      "image/png": "[encoded data removed]",
      "text/plain": [
       "<Figure size 1080x360 with 2 Axes>"
      ]
     },
     "metadata": {
      "needs_background": "light"
     },
     "output_type": "display_data"
    }
   ],
   "source": [
    "#Initialize a scaler later to be used on test set as well.\n",
    "scaler = StandardScaler().fit(dftrain)\n",
    "dftrain_scaled = pd.DataFrame(scaler.transform(dftrain), columns=dftrain.columns)\n",
    "dftest_scaled = pd.DataFrame(scaler.transform(dftest), columns=dftest.columns)\n",
    "\n",
    "#Awkward distribution!\n",
    "fig, ax = plt.subplots(ncols=2, figsize=(15,5))\n",
    "sns.distplot(np.concatenate(dftrain.values), ax=ax[0])\n",
    "sns.distplot(np.concatenate(dftrain_scaled.values), ax=ax[1])\n",
    "plt.tight_layout\n",
    "plt.show()"
   ]
  },
  {
   "cell_type": "code",
   "execution_count": 12,
   "metadata": {},
   "outputs": [
    {
     "name": "stdout",
     "output_type": "stream",
     "text": [
      "Na;K-ATPase subunit alpha 2 (ATP1A2) gene                                          648.184922\n",
      "Bile acid CoA: Amino acid N-acyltransferase mRNA                                   669.551209\n",
      "Cbl-b truncated form 1 lacking leucine zipper mRNA                                 684.765292\n",
      "26 S protease subunit 5b                                                           690.324324\n",
      "GB DEF = TAFII18 mRNA for transcription factor TFIID                               697.866287\n",
      "Caveolin-2 mRNA                                                                    719.325747\n",
      "LUM Lumican                                                                        732.628734\n",
      "Cyclin mRNA                                                                        750.941679\n",
      "Triadin mRNA                                                                       760.037696\n",
      "LAMA4 Laminin; alpha 4                                                             761.926031\n",
      "COL1A2 Collagen; type I; alpha-2                                                   763.992176\n",
      "Clone 23574 mRNA sequence                                                          794.942390\n",
      "Acylphosphatase; muscle type (MT) isoenzyme                                        799.997155\n",
      "3-beta-hydroxysteroid dehydrogenase/delta-5-delta-4-isomerase (3-beta-HSD) gene    877.172831\n",
      "CYP1B1 Cytochrome P450 IB1 (dioxin-inducible)                                      880.564011\n",
      "IL7 Interleukin 7                                                                  888.051209\n",
      "Small GTP-binding protein rab27b mRNA                                              891.541963\n",
      "LAR-interacting protein 1b mRNA                                                    899.866287\n",
      "Butyrylcholinesterase; mRNA                                                        917.804410\n",
      "GB DEF = Nuclear protein SA-1                                                      919.223329\n",
      "dtype: float64\n"
     ]
    }
   ],
   "source": [
    "#Filter out low variant genes?\n",
    "#It's hard to decide for a cutoff as we don't really know what is low. The minimum variance is 648 intensity.\n",
    "print(dftrain.var(axis=0).sort_values().head(20))\n",
    "\n",
    "#Another possibility is setting a cutoff for genes where most or all genese have untrustworth intensity calls..."
   ]
  },
  {
   "cell_type": "code",
   "execution_count": 17,
   "metadata": {},
   "outputs": [
    {
     "data": {
      "text/plain": [
       "((38, 1813), (34, 1813))"
      ]
     },
     "execution_count": 17,
     "metadata": {},
     "output_type": "execute_result"
    }
   ],
   "source": [
    "#Feature selection\n",
    "#Select from model\n",
    "model = LinearSVC()\n",
    "selector = SelectFromModel(estimator=model).fit(dftrain_scaled, train_target)\n",
    "X_new = selector.transform(dftrain_scaled)\n",
    "df_train_FS = dftrain_scaled[dftrain_scaled.columns[selector.get_support(indices=True)]]\n",
    "\n",
    "df_test_FS = dftest_scaled.filter(df_train_FS.columns)\n",
    "\n",
    "\n",
    "df_train_FS.shape, df_test_FS.shape"
   ]
  },
  {
   "cell_type": "markdown",
   "metadata": {},
   "source": [
    "# PRINCIPAL COMPONENT ANALYSIS"
   ]
  },
  {
   "cell_type": "code",
   "execution_count": 18,
   "metadata": {},
   "outputs": [
    {
     "name": "stdout",
     "output_type": "stream",
     "text": [
      "[0.166484   0.12479706 0.08231568]\n"
     ]
    }
   ],
   "source": [
    "#Let's do a pca first \n",
    "x = df_train_FS\n",
    "\n",
    "pca = PCA(n_components=3)\n",
    "pca.fit_transform(x)\n",
    "print(pca.explained_variance_ratio_) # Small variance explained\n",
    "\n",
    "principalDf = pd.DataFrame(data = pca.fit_transform(x), \n",
    "                           columns = ['pc1', 'pc2', 'pc3'])"
   ]
  },
  {
   "cell_type": "code",
   "execution_count": 19,
   "metadata": {},
   "outputs": [
    {
     "data": {
      "image/png": "[encoded data removed]",
      "text/plain": [
       "<Figure size 720x576 with 1 Axes>"
      ]
     },
     "metadata": {
      "needs_background": "light"
     },
     "output_type": "display_data"
    }
   ],
   "source": [
    "finalDf = pd.concat([principalDf, train_target], axis = 1)\n",
    "\n",
    "fig = plt.figure(figsize=(10,8))\n",
    "ax = fig.add_subplot(111, projection='3d')\n",
    "colors = {'ALL':'red', 'AML':'blue'}\n",
    "ax.scatter(principalDf.pc1, principalDf.pc2, principalDf.pc3, \n",
    "           c=train_target.apply(lambda x: colors[x]))\n",
    "plt.title('First 3 Principal Components after PCA')\n",
    "ax.set_xlabel('PC1')\n",
    "ax.set_ylabel('PC2')\n",
    "ax.set_zlabel('PC3')\n",
    "ax.view_init(10, 50)\n",
    "plt.tight_layout\n",
    "plt.show()"
   ]
  },
  {
   "cell_type": "markdown",
   "metadata": {},
   "source": [
    "The above plot shows relatively clear separation of the two cancer types along the first 3 components as defined by PCA using . "
   ]
  },
  {
   "cell_type": "markdown",
   "metadata": {},
   "source": [
    "# Model Selection"
   ]
  },
  {
   "cell_type": "code",
   "execution_count": 20,
   "metadata": {},
   "outputs": [
    {
     "name": "stdout",
     "output_type": "stream",
     "text": [
      "\n",
      "Results for Logistic Regression:\n",
      "\n",
      "              precision    recall  f1-score   support\n",
      "\n",
      "         ALL       0.91      1.00      0.95        20\n",
      "         AML       1.00      0.86      0.92        14\n",
      "\n",
      "    accuracy                           0.94        34\n",
      "   macro avg       0.95      0.93      0.94        34\n",
      "weighted avg       0.95      0.94      0.94        34\n",
      "\n",
      "[[20  0]\n",
      " [ 2 12]]\n",
      "\n",
      "Results for K Nearest Neighbours:\n",
      "\n",
      "              precision    recall  f1-score   support\n",
      "\n",
      "         ALL       0.77      1.00      0.87        20\n",
      "         AML       1.00      0.57      0.73        14\n",
      "\n",
      "    accuracy                           0.82        34\n",
      "   macro avg       0.88      0.79      0.80        34\n",
      "weighted avg       0.86      0.82      0.81        34\n",
      "\n",
      "[[20  0]\n",
      " [ 6  8]]\n",
      "\n",
      "Results for Support Vector Machine:\n",
      "\n",
      "              precision    recall  f1-score   support\n",
      "\n",
      "         ALL       0.65      1.00      0.78        20\n",
      "         AML       1.00      0.21      0.35        14\n",
      "\n",
      "    accuracy                           0.68        34\n",
      "   macro avg       0.82      0.61      0.57        34\n",
      "weighted avg       0.79      0.68      0.61        34\n",
      "\n",
      "[[20  0]\n",
      " [11  3]]\n",
      "\n",
      "Results for Random Forest:\n",
      "\n",
      "              precision    recall  f1-score   support\n",
      "\n",
      "         ALL       0.77      1.00      0.87        20\n",
      "         AML       1.00      0.57      0.73        14\n",
      "\n",
      "    accuracy                           0.82        34\n",
      "   macro avg       0.88      0.79      0.80        34\n",
      "weighted avg       0.86      0.82      0.81        34\n",
      "\n",
      "[[20  0]\n",
      " [ 6  8]]\n",
      "      Feature_Importance                                          Gene_Name\n",
      "510             0.029722  PTX3 Pentaxin-related gene; rapidly induced by...\n",
      "888             0.027649               Leukotriene C4 synthase (LTC4S) gene\n",
      "1303            0.025000                                              Zyxin\n",
      "1510            0.024686  C-myb gene extracted from Human (c-myb) gene; ...\n",
      "611             0.024095                                  NUCLEOLYSIN TIA-1\n",
      "483             0.023163        CD33 CD33 antigen (differentiation antigen)\n",
      "549             0.021739                            FAH Fumarylacetoacetate\n",
      "1617            0.019383                           Interleukin 8 (IL8) gene\n",
      "1582            0.018302   APLP2 Amyloid beta (A4) precursor-like protein 2\n",
      "78              0.018269                             NADPH-flavin reductase\n",
      "645             0.014884  ACADM Acyl-Coenzyme A dehydrogenase; C-4 to C-...\n",
      "1139            0.014399                                CTPS CTP synthetase\n",
      "705             0.014395            Pre-B cell enhancing factor (PBEF) mRNA\n",
      "1644            0.014167                   MYL1 Myosin light chain (alkali)\n",
      "1219            0.014115  CHRNA7 Cholinergic receptor; nicotinic; alpha ...\n",
      "1045            0.014045  GB DEF = RNA polymerase II elongation factor ELL2\n",
      "294             0.013363                              CATHEPSIN G PRECURSOR\n",
      "623             0.011509                     CDC25A Cell division cycle 25A\n",
      "500             0.011143  CST3 Cystatin C (amyloid angiopathy and cerebr...\n",
      "1670            0.010187                 PFC Properdin P factor; complement\n",
      "873             0.010000              GLUTATHIONE S-TRANSFERASE; MICROSOMAL\n",
      "1452            0.009735          TOP2B Topoisomerase (DNA) II beta (180kD)\n",
      "1357            0.009557                         GB DEF = CD36 gene exon 15\n",
      "557             0.009529  ZNF42 Zinc finger protein 42 (myeloid-specific...\n",
      "816             0.009515                             NUCLEOBINDIN PRECURSOR\n",
      "476             0.009466  ANPEP Alanyl (membrane) aminopeptidase (aminop...\n",
      "1764            0.009432                        Lysozyme gene (EC 3.2.1.17)\n",
      "943             0.009406  Putative cyclin G1 interacting protein mRNA; p...\n",
      "1078            0.009330  Catalase (EC 1.11.1.6) 5'flank and exon 1 mapp...\n",
      "1153            0.009260  PRTN3 Proteinase 3 (serine proteinase; neutrop...\n",
      "1611            0.008919                             PTMA Prothymosin alpha\n",
      "615             0.008865  PEPTIDYL-PROLYL CIS-TRANS ISOMERASE; MITOCHOND...\n",
      "1612            0.008760       SELL Leukocyte adhesion protein beta subunit\n",
      "913             0.008530  NADH:ubiquinone oxidoreductase subunit B13 (B1...\n",
      "583             0.007739                 RPA1 Replication protein A1 (70kD)\n",
      "420             0.006458                             Inducible protein mRNA\n",
      "512             0.005368                         Oncoprotein 18 (Op18) gene\n",
      "279             0.005367                         UBIQUITIN-LIKE PROTEIN GDX\n",
      "296             0.005328  SPTAN1 Spectrin; alpha; non-erythrocytic 1 (al...\n",
      "1604            0.005255                   TCRA T cell receptor alpha-chain\n",
      "626             0.005134  TCF12 Transcription factor 12 (HTF4; helix-loo...\n",
      "1602            0.005083  GB DEF = DNA for cellular retinol binding prot...\n",
      "1039            0.005020  Myeloid progenitor inhibitory factor-1 MPIF-1 ...\n",
      "700             0.005000                                       SREBP-1 mRNA\n",
      "1545            0.005000  Rhesus (Rh) Blood Group System Ce-Antigen; Alt...\n",
      "828             0.005000                 Selenium donor protein (selD) mRNA\n",
      "598             0.005000                       GATA2 GATA-binding protein 2\n",
      "647             0.005000                                    CCND3 Cyclin D3\n",
      "303             0.005000              (HepG2) glucose transporter gene mRNA\n",
      "8               0.005000      AFFX-HUMTFRR/M11507_3_at (endogenous control)\n",
      "\n",
      "Results for Multi Layer Perceptron:\n",
      "\n",
      "              precision    recall  f1-score   support\n",
      "\n",
      "         ALL       0.90      0.90      0.90        20\n",
      "         AML       0.86      0.86      0.86        14\n",
      "\n",
      "    accuracy                           0.88        34\n",
      "   macro avg       0.88      0.88      0.88        34\n",
      "weighted avg       0.88      0.88      0.88        34\n",
      "\n",
      "[[18  2]\n",
      " [ 2 12]]\n",
      "\n",
      "Results for Gaussian Naive Bayes:\n",
      "\n",
      "              precision    recall  f1-score   support\n",
      "\n",
      "         ALL       1.00      0.75      0.86        20\n",
      "         AML       0.74      1.00      0.85        14\n",
      "\n",
      "    accuracy                           0.85        34\n",
      "   macro avg       0.87      0.88      0.85        34\n",
      "weighted avg       0.89      0.85      0.85        34\n",
      "\n",
      "[[15  5]\n",
      " [ 0 14]]\n"
     ]
    }
   ],
   "source": [
    "classifiers = [LogisticRegression(),\n",
    "               KNeighborsClassifier(n_neighbors=5),\n",
    "               SVC(),\n",
    "               RandomForestClassifier(n_estimators=200, min_samples_leaf=4),\n",
    "               MLPClassifier(hidden_layer_sizes=200),\n",
    "               GaussianNB()\n",
    "              ]\n",
    "names = ['Logistic Regression',\n",
    "         'K Nearest Neighbours', \n",
    "         'Support Vector Machine', \n",
    "         'Random Forest', \n",
    "         'Multi Layer Perceptron', \n",
    "         'Gaussian Naive Bayes'\n",
    "        ]\n",
    "\n",
    "for name, classifier in zip(names,classifiers):\n",
    "    \n",
    "    #fit\n",
    "    clf = classifier.fit(df_train_FS, train_target)\n",
    "    \n",
    "    #predictions on test set\n",
    "    pred_targets = clf.predict(df_test_FS)\n",
    "    \n",
    "    #print results\n",
    "    print(f'\\nResults for {name}:\\n')\n",
    "    print(classification_report(test_target,pred_targets))\n",
    "    print(confusion_matrix(test_target,pred_targets))\n",
    "    \n",
    "    if name == 'Random Forest':\n",
    "        features = clf.feature_importances_\n",
    "        feature_df = pd.DataFrame({'Feature_Importance' : features, 'Gene_Name' : df_train_FS.columns})\n",
    "        \n",
    "        print(feature_df.sort_values(by='Feature_Importance', ascending=False).head(50))"
   ]
  },
  {
   "cell_type": "code",
   "execution_count": null,
   "metadata": {},
   "outputs": [],
   "source": []
  },
  {
   "cell_type": "code",
   "execution_count": null,
   "metadata": {},
   "outputs": [],
   "source": []
  }
 ],
 "metadata": {
  "kernelspec": {
   "display_name": "Python 3",
   "language": "python",
   "name": "python3"
  },
  "language_info": {
   "codemirror_mode": {
    "name": "ipython",
    "version": 3
   },
   "file_extension": ".py",
   "mimetype": "text/x-python",
   "name": "python",
   "nbconvert_exporter": "python",
   "pygments_lexer": "ipython3",
   "version": "3.7.5"
  }
 },
 "nbformat": 4,
 "nbformat_minor": 4
}
