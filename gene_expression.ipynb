{
 "cells": [
  {
   "cell_type": "markdown",
   "metadata": {},
   "source": [
    "READ ME\n",
    "\n",
    "This is a project that will start out aiming to use a lasso logistic regression to identify important features.\n",
    "The dataset is downloaded from kaggle: https://www.kaggle.com/crawford/gene-expression"
   ]
  },
  {
   "cell_type": "code",
   "execution_count": 75,
   "metadata": {},
   "outputs": [],
   "source": [
    "import pandas as pd\n",
    "import numpy as np\n",
    "from sklearn.decomposition import PCA\n",
    "from sklearn.preprocessing import StandardScaler\n",
    "from sklearn.linear_model import LogisticRegression, Lasso\n",
    "from sklearn.metrics import classification_report, confusion_matrix, roc_auc_score\n",
    "from sklearn.neighbors import KNeighborsClassifier\n",
    "from sklearn.svm import SVC\n",
    "from sklearn.ensemble import RandomForestClassifier\n",
    "from sklearn.neural_network import MLPClassifier\n",
    "from sklearn.naive_bayes import GaussianNB\n",
    "from sklearn.feature_selection import SelectFromModel\n",
    "import matplotlib.pyplot as plt\n",
    "from mpl_toolkits.mplot3d import Axes3D\n",
    "import seaborn as sns; sns.set()\n",
    "%matplotlib inline"
   ]
  },
  {
   "cell_type": "code",
   "execution_count": 65,
   "metadata": {},
   "outputs": [
    {
     "name": "stdout",
     "output_type": "stream",
     "text": [
      "actual.csv                       data_set_ALL_AML_train.csv\r\n",
      "data_set_ALL_AML_independent.csv gene_expression.ipynb\r\n"
     ]
    }
   ],
   "source": [
    "!ls"
   ]
  },
  {
   "cell_type": "code",
   "execution_count": 66,
   "metadata": {},
   "outputs": [
    {
     "name": "stdout",
     "output_type": "stream",
     "text": [
      "ALL    47\n",
      "AML    25\n",
      "Name: cancer, dtype: int64\n",
      "\n",
      "Number of samples; (72, 2)\n"
     ]
    }
   ],
   "source": [
    "#Discover the files\n",
    "cancer_targets = pd.read_csv(\"actual.csv\") #targets, ground truths\n",
    "print(cancer_targets[\"cancer\"].value_counts())\n",
    "print(\"\\nNumber of samples;\", cancer_targets.shape)"
   ]
  },
  {
   "cell_type": "markdown",
   "metadata": {},
   "source": [
    "- acute myeloid leukemia (AML)\n",
    "- lymphoblastic leukemia (ALL)"
   ]
  },
  {
   "cell_type": "code",
   "execution_count": 67,
   "metadata": {},
   "outputs": [
    {
     "name": "stdout",
     "output_type": "stream",
     "text": [
      "(7129, 78) (7129, 70)\n"
     ]
    }
   ],
   "source": [
    "cancer_train = pd.read_csv(\"data_set_ALL_AML_train.csv\")\n",
    "cancer_test = pd.read_csv(\"data_set_ALL_AML_independent.csv\")\n",
    "\n",
    "print(cancer_train.shape, cancer_test.shape)\n",
    "\n",
    "#There is 72 patients, but shapes are 78 and 70 ?"
   ]
  },
  {
   "cell_type": "markdown",
   "metadata": {},
   "source": [
    "The call columns contain: Present, Absent, and Marginal. This is a detection call by the manufacturer of the DNA Microarray used in the paper. \n",
    "(These values are related to p-values of intensity compared to a cutoff noise frequency it seems...). Therefore it seems best to exclude rows where all values are Absent(A) calls. As a matter of fact it maybe better to completely zero out all A calls. We will see if this is appropriate later. This article has analysed the effect of filtering:https://www.ncbi.nlm.nih.gov/pmc/articles/PMC1409797/"
   ]
  },
  {
   "cell_type": "code",
   "execution_count": 68,
   "metadata": {},
   "outputs": [],
   "source": [
    "#Get the call columns and check if there are genes with all A calls\n",
    "#Then drop these from the df\n",
    "call_columns = [col for col in cancer_train.columns if \"call.\" in col]\n",
    "\n",
    "#We would need to drop around 2210 it seems:\n",
    "cancer_train.filter(call_columns).apply(lambda x: x == 'A').all(axis = 1).value_counts()\n",
    "\n",
    "#Check if there are also samples with all A calls\n",
    "cancer_train.filter(call_columns).apply(lambda x: x == 'A').all(axis = 0).value_counts()\n",
    "#There are none\n",
    "\n",
    "#Keep the genes where condition = False, so all genes with low fidelity are dropped\n",
    "cancer_train_PM = cancer_train[~cancer_train.filter(call_columns).apply(lambda x: x == 'A').all(axis = 1)]\n",
    "\n",
    "#Remark: Call column does not always follow immediately after column number!"
   ]
  },
  {
   "cell_type": "code",
   "execution_count": 69,
   "metadata": {},
   "outputs": [
    {
     "name": "stdout",
     "output_type": "stream",
     "text": [
      "False    4960\n",
      "True     2169\n",
      "dtype: int64\n"
     ]
    }
   ],
   "source": [
    "#Get the call columns and check if there are genes with all A calls\n",
    "#Then drop these from the df\n",
    "call_columns = [col for col in cancer_test.columns if \"call.\" in col]\n",
    "\n",
    "#We would need to drop around 2169 it seems:\n",
    "print(cancer_test.filter(call_columns).apply(lambda x: x == 'A').all(axis = 1).value_counts())\n",
    "\n",
    "#Check if there are also samples with all A calls\n",
    "cancer_test.filter(call_columns).apply(lambda x: x == 'A').all(axis = 0).value_counts()\n",
    "#There are none\n",
    "\n",
    "#Keep the rows where condition = False\n",
    "cancer_test_PM = cancer_test[~cancer_test.filter(call_columns).apply(lambda x: x == 'A').all(axis = 1)]\n",
    "\n",
    "#Remark: Call column does not always follow immediately after column number!\n"
   ]
  },
  {
   "cell_type": "code",
   "execution_count": 70,
   "metadata": {},
   "outputs": [
    {
     "name": "stdout",
     "output_type": "stream",
     "text": [
      "(4919, 78) (4960, 70)\n"
     ]
    }
   ],
   "source": [
    "#Current shape of the dfs\n",
    "print(cancer_train_PM.shape, cancer_test_PM.shape)"
   ]
  },
  {
   "cell_type": "code",
   "execution_count": 71,
   "metadata": {},
   "outputs": [
    {
     "name": "stdout",
     "output_type": "stream",
     "text": [
      "(76, 4660) (68, 4687)\n"
     ]
    }
   ],
   "source": [
    "#Prepare for merging test and train set\n",
    "cancer_train_PM = cancer_train_PM.T\n",
    "cancer_train_PM.columns = cancer_train_PM.iloc[0] #change the header\n",
    "cancer_train_PM = cancer_train_PM[2:]\n",
    "cancer_train_PM['set'] = 'Train'\n",
    "cancer_train_PM.reset_index(inplace=True)\n",
    "cancer_train_PM.rename({'index':'patient'}, axis=1, inplace=True) #merge ID\n",
    "cancer_train_PM = cancer_train_PM.loc[:,~cancer_train_PM.columns.duplicated()] #duplicated columns in the dataset :/\n",
    "\n",
    "\n",
    "cancer_test_PM = cancer_test_PM.T\n",
    "cancer_test_PM.columns = cancer_test_PM.iloc[0]\n",
    "cancer_test_PM = cancer_test_PM[2:]\n",
    "cancer_test_PM['set'] = 'Test'\n",
    "cancer_test_PM.reset_index(inplace=True)\n",
    "cancer_test_PM.rename({'index':'patient'}, axis=1, inplace=True)\n",
    "cancer_test_PM = cancer_test_PM.loc[:,~cancer_test_PM.columns.duplicated()]\n",
    "\n",
    "print(cancer_train_PM.shape, cancer_test_PM.shape)\n",
    "\n",
    "#Vertical stack of train and test set so the result has all shared genes (inner join)\n",
    "vertical_stack = pd.concat([cancer_train_PM, cancer_test_PM], join=\"inner\", keys=['Train', 'Test']) "
   ]
  },
  {
   "cell_type": "code",
   "execution_count": 72,
   "metadata": {},
   "outputs": [
    {
     "name": "stdout",
     "output_type": "stream",
     "text": [
      "True\n"
     ]
    }
   ],
   "source": [
    "cancer_targets = cancer_targets.astype({'patient': 'str'})\n",
    "vertical_stack.patient = vertical_stack.patient.astype('str')\n",
    "print(cancer_targets['patient'].dtype == vertical_stack['patient'].dtype)"
   ]
  },
  {
   "cell_type": "code",
   "execution_count": 73,
   "metadata": {},
   "outputs": [],
   "source": [
    "#Horizontal Merge with the targets. Prioritize targets for merge\n",
    "horizontal_merge = pd.merge(vertical_stack,cancer_targets, on='patient', how='inner')"
   ]
  },
  {
   "cell_type": "code",
   "execution_count": 74,
   "metadata": {},
   "outputs": [],
   "source": [
    "dftrain = horizontal_merge[horizontal_merge['set'] == 'Train'].iloc[:,1:-2]\n",
    "train_target = horizontal_merge[horizontal_merge['set'] == 'Train'].iloc[:,-1]\n",
    "dftest = horizontal_merge[horizontal_merge['set'] == 'Test'].iloc[:,1:-2]\n",
    "test_target = horizontal_merge[horizontal_merge['set'] == 'Test'].iloc[:,-1]"
   ]
  },
  {
   "cell_type": "code",
   "execution_count": 87,
   "metadata": {},
   "outputs": [
    {
     "name": "stderr",
     "output_type": "stream",
     "text": [
      "/Users/mattijsbeirinckx/opt/anaconda3/lib/python3.7/site-packages/sklearn/linear_model/_coordinate_descent.py:476: ConvergenceWarning: Objective did not converge. You might want to increase the number of iterations. Duality gap: 0.0033265583231841863, tolerance: 0.0007815789473684211\n",
      "  positive)\n"
     ]
    }
   ],
   "source": [
    "#Feature Selection\n",
    "lasso_model = Lasso(alpha=0.1).fit(dftrain.values, pd.Categorical(train_target, categories=['ALL', 'AML']).codes)\n",
    "\n"
   ]
  },
  {
   "cell_type": "code",
   "execution_count": 82,
   "metadata": {},
   "outputs": [
    {
     "name": "stdout",
     "output_type": "stream",
     "text": [
      "[0.16486887 0.13346607 0.07331193]\n"
     ]
    }
   ],
   "source": [
    "#Let's do a pca first \n",
    "x = StandardScaler().fit_transform(dftrain.values)\n",
    "\n",
    "pca = PCA(n_components=3)\n",
    "pca.fit_transform(x)\n",
    "print(pca.explained_variance_ratio_) # Small variance explained\n",
    "\n",
    "principalDf = pd.DataFrame(data = pca.fit_transform(x), \n",
    "                           columns = ['princom1', 'princom2', 'princom3'])"
   ]
  },
  {
   "cell_type": "code",
   "execution_count": 83,
   "metadata": {},
   "outputs": [
    {
     "data": {
      "image/png": "[encoded data removed]",
      "text/plain": [
       "<Figure size 720x576 with 1 Axes>"
      ]
     },
     "metadata": {
      "needs_background": "light"
     },
     "output_type": "display_data"
    }
   ],
   "source": [
    "finalDf = pd.concat([principalDf, train_target], axis = 1)\n",
    "\n",
    "fig = plt.figure(figsize=(10,8))\n",
    "ax = fig.add_subplot(111, projection='3d')\n",
    "colors = {'ALL':'red', 'AML':'blue'}\n",
    "ax.scatter(principalDf.princom1, principalDf.princom2, principalDf.princom3, \n",
    "           c=train_target.apply(lambda x: colors[x]))\n",
    "plt.title('First 3 Principal Components after PCA')\n",
    "ax.set_xlabel('PC1')\n",
    "ax.set_ylabel('PC2')\n",
    "ax.set_zlabel('PC3')\n",
    "ax.view_init(30, 40)\n",
    "plt.tight_layout\n",
    "plt.show()"
   ]
  },
  {
   "cell_type": "markdown",
   "metadata": {},
   "source": [
    "The above plot shows relatively clear separation of the two cancer types along the first 3 components as defined by PCA. "
   ]
  },
  {
   "cell_type": "markdown",
   "metadata": {},
   "source": [
    "Some classifiers at work without feature selection..."
   ]
  },
  {
   "cell_type": "code",
   "execution_count": 84,
   "metadata": {},
   "outputs": [
    {
     "name": "stdout",
     "output_type": "stream",
     "text": [
      "\n",
      "Results for Logistic Regression:\n",
      "\n",
      "              precision    recall  f1-score   support\n",
      "\n",
      "         ALL       1.00      0.75      0.86        20\n",
      "         AML       0.74      1.00      0.85        14\n",
      "\n",
      "    accuracy                           0.85        34\n",
      "   macro avg       0.87      0.88      0.85        34\n",
      "weighted avg       0.89      0.85      0.85        34\n",
      "\n",
      "[[15  5]\n",
      " [ 0 14]]\n",
      "\n",
      "Results for K Nearest Neighbours:\n",
      "\n",
      "              precision    recall  f1-score   support\n",
      "\n",
      "         ALL       0.91      1.00      0.95        20\n",
      "         AML       1.00      0.86      0.92        14\n",
      "\n",
      "    accuracy                           0.94        34\n",
      "   macro avg       0.95      0.93      0.94        34\n",
      "weighted avg       0.95      0.94      0.94        34\n",
      "\n",
      "[[20  0]\n",
      " [ 2 12]]\n",
      "\n",
      "Results for Support Vector Machine:\n",
      "\n",
      "              precision    recall  f1-score   support\n",
      "\n",
      "         ALL       0.65      1.00      0.78        20\n",
      "         AML       1.00      0.21      0.35        14\n",
      "\n",
      "    accuracy                           0.68        34\n",
      "   macro avg       0.82      0.61      0.57        34\n",
      "weighted avg       0.79      0.68      0.61        34\n",
      "\n",
      "[[20  0]\n",
      " [11  3]]\n",
      "\n",
      "Results for Random Forest:\n",
      "\n",
      "              precision    recall  f1-score   support\n",
      "\n",
      "         ALL       0.83      1.00      0.91        20\n",
      "         AML       1.00      0.71      0.83        14\n",
      "\n",
      "    accuracy                           0.88        34\n",
      "   macro avg       0.92      0.86      0.87        34\n",
      "weighted avg       0.90      0.88      0.88        34\n",
      "\n",
      "[[20  0]\n",
      " [ 4 10]]\n",
      "      Feature_Importance                                          Gene_Name\n",
      "1390            0.022941     CTSD Cathepsin D (lysosomal aspartyl protease)\n",
      "3114            0.022262                                              Zyxin\n",
      "561             0.018876                                         CYSTATIN A\n",
      "1328            0.018690                            FAH Fumarylacetoacetate\n",
      "4073            0.017593  MEF2A gene (myocyte-specific enhancer factor 2...\n",
      "2107            0.016800              GLUTATHIONE S-TRANSFERASE; MICROSOMAL\n",
      "3072            0.016662                              Uridine phosphorylase\n",
      "2070            0.015567                                 HOXA9 Homeo box A9\n",
      "4053            0.015416                                  Epb72 gene exon 1\n",
      "3896            0.015123                       ELA2 Elastatse 2; neutrophil\n",
      "2809            0.014335  ME491  gene extracted from H.sapiens gene for ...\n",
      "1014            0.014246   ALCAM Activated leucocyte cell adhesion molecule\n",
      "727             0.014041                         UBIQUITIN-LIKE PROTEIN GDX\n",
      "2334            0.013473             Lysophospholipase homolog (HU-K5) mRNA\n",
      "802             0.011124      Protein tyrosine kinase related mRNA sequence\n",
      "1194            0.010000        CD33 CD33 antigen (differentiation antigen)\n",
      "4191            0.010000                        Lysozyme gene (EC 3.2.1.17)\n",
      "2535            0.010000                          Clone 23612 mRNA sequence\n",
      "1433            0.010000                       GATA2 GATA-binding protein 2\n",
      "3984            0.010000                 PFC Properdin P factor; complement\n",
      "2716            0.009683                                CTPS CTP synthetase\n",
      "1466            0.009094  PEPTIDYL-PROLYL CIS-TRANS ISOMERASE; MITOCHOND...\n",
      "2891            0.008967  CHRNA7 Cholinergic receptor; nicotinic; alpha ...\n",
      "2389            0.008944        ADP-ribosylation factor-like protein 4 mRNA\n",
      "2147            0.008914               Leukotriene C4 synthase (LTC4S) gene\n",
      "2701            0.008876             PRG1 Proteoglycan 1; secretory granule\n",
      "1685            0.008876            Pre-B cell enhancing factor (PBEF) mRNA\n",
      "1791            0.008876  Thrombospondin-p50 gene extracted from Human t...\n",
      "80              0.008876  Clone 22 mRNA; alternative splice variant alpha-1\n",
      "768             0.008827  SPTAN1 Spectrin; alpha; non-erythrocytic 1 (al...\n",
      "2112            0.008827  Phosphotyrosine independent ligand p62 for the...\n",
      "1363            0.008827        EPB42 Erythrocyte membrane protein band 4.2\n",
      "1261            0.008690  PTX3 Pentaxin-related gene; rapidly induced by...\n",
      "157             0.008690                                 ADM Adrenomedullin\n",
      "4247            0.008593  RNS2 Ribonuclease 2 (eosinophil-derived neurot...\n",
      "3724            0.008468                          Spinal Muscular Atrophy 4\n",
      "3864            0.008131  C1NH Complement component 1 inhibitor (angioed...\n",
      "2514            0.008081                           Serine kinase SRPK2 mRNA\n",
      "2642            0.008081                                         PLECKSTRIN\n",
      "2008            0.008056                   Heterochromatin protein p25 mRNA\n",
      "180             0.007984                         KIAA0035 gene; partial cds\n",
      "3805            0.007973   APLP2 Amyloid beta (A4) precursor-like protein 2\n",
      "1518            0.007973      TRANSCRIPTIONAL REGULATOR ISGF3 GAMMA SUBUNIT\n",
      "1459            0.007912                                  NUCLEOLYSIN TIA-1\n",
      "3874            0.007835       SELL Leukocyte adhesion protein beta subunit\n",
      "1222            0.007798                            HOMEOBOX PROTEIN HOX-A5\n",
      "3652            0.007738  KIT V-kit Hardy-Zuckerman 4 feline sarcoma vir...\n",
      "3725            0.007738  Rhesus (Rh) Blood Group System Ce-Antigen; Alt...\n",
      "2612            0.007738  Catalase (EC 1.11.1.6) 5'flank and exon 1 mapp...\n",
      "3990            0.007712                                   THYMOSIN BETA-10\n",
      "\n",
      "Results for Multi Layer Perceptron:\n",
      "\n",
      "              precision    recall  f1-score   support\n",
      "\n",
      "         ALL       0.94      0.85      0.89        20\n",
      "         AML       0.81      0.93      0.87        14\n",
      "\n",
      "    accuracy                           0.88        34\n",
      "   macro avg       0.88      0.89      0.88        34\n",
      "weighted avg       0.89      0.88      0.88        34\n",
      "\n",
      "[[17  3]\n",
      " [ 1 13]]\n",
      "\n",
      "Results for Gaussian Naive Bayes:\n",
      "\n",
      "              precision    recall  f1-score   support\n",
      "\n",
      "         ALL       1.00      0.90      0.95        20\n",
      "         AML       0.88      1.00      0.93        14\n",
      "\n",
      "    accuracy                           0.94        34\n",
      "   macro avg       0.94      0.95      0.94        34\n",
      "weighted avg       0.95      0.94      0.94        34\n",
      "\n",
      "[[18  2]\n",
      " [ 0 14]]\n"
     ]
    }
   ],
   "source": [
    "classifiers = [LogisticRegression(),\n",
    "               KNeighborsClassifier(),\n",
    "               SVC(kernel='rbf'),\n",
    "               RandomForestClassifier(),\n",
    "               MLPClassifier(),\n",
    "               GaussianNB()\n",
    "              ]\n",
    "names = ['Logistic Regression',\n",
    "         'K Nearest Neighbours', \n",
    "         'Support Vector Machine', \n",
    "         'Random Forest', \n",
    "         'Multi Layer Perceptron', \n",
    "         'Gaussian Naive Bayes'\n",
    "        ]\n",
    "\n",
    "for name, classifier in zip(names,classifiers):\n",
    "    \n",
    "    #fit\n",
    "    clf = classifier.fit(dftrain, train_target)\n",
    "    \n",
    "    #predictions on test set\n",
    "    pred_targets = clf.predict(dftest)\n",
    "    \n",
    "    #print results\n",
    "    print(f'\\nResults for {name}:\\n')\n",
    "    print(classification_report(test_target,pred_targets))\n",
    "    print(confusion_matrix(test_target,pred_targets))\n",
    "    \n",
    "    if name == 'Random Forest':\n",
    "        features = clf.feature_importances_\n",
    "        feature_df = pd.DataFrame({'Feature_Importance' : features, 'Gene_Name' : dftrain.columns})\n",
    "        \n",
    "        print(feature_df.sort_values(by='Feature_Importance', ascending=False).head(50))"
   ]
  },
  {
   "cell_type": "code",
   "execution_count": null,
   "metadata": {},
   "outputs": [],
   "source": []
  }
 ],
 "metadata": {
  "kernelspec": {
   "display_name": "Python 3",
   "language": "python",
   "name": "python3"
  },
  "language_info": {
   "codemirror_mode": {
    "name": "ipython",
    "version": 3
   },
   "file_extension": ".py",
   "mimetype": "text/x-python",
   "name": "python",
   "nbconvert_exporter": "python",
   "pygments_lexer": "ipython3",
   "version": "3.7.5"
  }
 },
 "nbformat": 4,
 "nbformat_minor": 4
}
