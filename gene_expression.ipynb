{
 "cells": [
  {
   "cell_type": "markdown",
   "metadata": {},
   "source": [
    "READ ME\n",
    "\n",
    "This is a project that will start out aiming to use a lasso logistic regression to identify important features.\n",
    "The dataset is downloaded from kaggle: https://www.kaggle.com/crawford/gene-expression"
   ]
  },
  {
   "cell_type": "markdown",
   "metadata": {},
   "source": [
    "# IMPORTS"
   ]
  },
  {
   "cell_type": "code",
   "execution_count": 20,
   "metadata": {},
   "outputs": [],
   "source": [
    "import pandas as pd\n",
    "import numpy as np\n",
    "from sklearn.decomposition import PCA\n",
    "from sklearn.preprocessing import StandardScaler, scale\n",
    "from sklearn.linear_model import LogisticRegression, Lasso\n",
    "from sklearn.metrics import classification_report, confusion_matrix, roc_auc_score\n",
    "from sklearn.neighbors import KNeighborsClassifier\n",
    "from sklearn.svm import SVC\n",
    "from sklearn.ensemble import RandomForestClassifier\n",
    "from sklearn.neural_network import MLPClassifier\n",
    "from sklearn.naive_bayes import GaussianNB\n",
    "from sklearn.feature_selection import SelectFromModel\n",
    "import matplotlib.pyplot as plt\n",
    "from mpl_toolkits.mplot3d import Axes3D\n",
    "import seaborn as sns; sns.set()\n",
    "%matplotlib inline"
   ]
  },
  {
   "cell_type": "code",
   "execution_count": 21,
   "metadata": {},
   "outputs": [
    {
     "name": "stdout",
     "output_type": "stream",
     "text": [
      "actual.csv                       data_set_ALL_AML_train.csv\r\n",
      "data_set_ALL_AML_independent.csv gene_expression.ipynb\r\n"
     ]
    }
   ],
   "source": [
    "!ls"
   ]
  },
  {
   "cell_type": "markdown",
   "metadata": {},
   "source": [
    "# PREPARE THE DATASET"
   ]
  },
  {
   "cell_type": "code",
   "execution_count": 22,
   "metadata": {},
   "outputs": [
    {
     "name": "stdout",
     "output_type": "stream",
     "text": [
      "ALL    47\n",
      "AML    25\n",
      "Name: cancer, dtype: int64\n",
      "\n",
      "Number of samples; (72, 2)\n"
     ]
    }
   ],
   "source": [
    "#Discover the files\n",
    "cancer_targets = pd.read_csv(\"actual.csv\") #targets, ground truths\n",
    "print(cancer_targets[\"cancer\"].value_counts())\n",
    "print(\"\\nNumber of samples;\", cancer_targets.shape)"
   ]
  },
  {
   "cell_type": "markdown",
   "metadata": {},
   "source": [
    "- acute myeloid leukemia (AML)\n",
    "- lymphoblastic leukemia (ALL)"
   ]
  },
  {
   "cell_type": "code",
   "execution_count": 23,
   "metadata": {},
   "outputs": [
    {
     "name": "stdout",
     "output_type": "stream",
     "text": [
      "(7129, 78) (7129, 70)\n"
     ]
    }
   ],
   "source": [
    "cancer_train = pd.read_csv(\"data_set_ALL_AML_train.csv\")\n",
    "cancer_test = pd.read_csv(\"data_set_ALL_AML_independent.csv\")\n",
    "\n",
    "print(cancer_train.shape, cancer_test.shape)\n",
    "\n",
    "#There is 72 patients, but shapes are 78 and 70 ?"
   ]
  },
  {
   "cell_type": "markdown",
   "metadata": {},
   "source": [
    "The call columns contain: Present, Absent, and Marginal. This is a detection call by the manufacturer of the DNA Microarray used in the paper. \n",
    "(These values are related to p-values of intensity compared to a cutoff noise frequency it seems...). Therefore it seems best to exclude rows where all values are Absent(A) calls. As a matter of fact it maybe better to completely zero out all A calls. We will see if this is appropriate later. This article has analysed the effect of filtering:https://www.ncbi.nlm.nih.gov/pmc/articles/PMC1409797/"
   ]
  },
  {
   "cell_type": "code",
   "execution_count": 24,
   "metadata": {},
   "outputs": [],
   "source": [
    "#Get the call columns and check if there are genes with all A calls\n",
    "#Then drop these from the df\n",
    "call_columns = [col for col in cancer_train.columns if \"call.\" in col]\n",
    "\n",
    "#We would need to drop around 2210 it seems:\n",
    "cancer_train.filter(call_columns).apply(lambda x: x == 'A').all(axis = 1).value_counts()\n",
    "\n",
    "#Check if there are also samples with all A calls\n",
    "cancer_train.filter(call_columns).apply(lambda x: x == 'A').all(axis = 0).value_counts()\n",
    "#There are none\n",
    "\n",
    "#Keep the genes where condition = False, so all genes with low fidelity are dropped\n",
    "cancer_train_PM = cancer_train[~cancer_train.filter(call_columns).apply(lambda x: x == 'A').all(axis = 1)]\n",
    "\n",
    "#Remark: Call column does not always follow immediately after column number!\n",
    "\n",
    "#Same for test set\n",
    "call_columns = [col for col in cancer_test.columns if \"call.\" in col]\n",
    "print(cancer_test.filter(call_columns).apply(lambda x: x == 'A').all(axis = 1).value_counts())\n",
    "cancer_test.filter(call_columns).apply(lambda x: x == 'A').all(axis = 0).value_counts()\n",
    "cancer_test_PM = cancer_test[~cancer_test.filter(call_columns).apply(lambda x: x == 'A').all(axis = 1)]"
   ]
  },
  {
   "cell_type": "code",
   "execution_count": 43,
   "metadata": {},
   "outputs": [
    {
     "name": "stdout",
     "output_type": "stream",
     "text": [
      "(76, 4660) (68, 4687)\n"
     ]
    }
   ],
   "source": [
    "#Current shape of the dfs\n",
    "print(cancer_train_PM.shape, cancer_test_PM.shape)"
   ]
  },
  {
   "cell_type": "code",
   "execution_count": 47,
   "metadata": {},
   "outputs": [
    {
     "name": "stdout",
     "output_type": "stream",
     "text": [
      "(76, 4659) (68, 4686)\n"
     ]
    }
   ],
   "source": [
    "#Prepare for merging test and train set\n",
    "#I prefer to merge because the test and train set will have the same genes, \n",
    "#with erroreous measurements removed from both df. Might change later...\n",
    "cancer_train_PM = cancer_train_PM.T\n",
    "cancer_train_PM.columns = cancer_train_PM.iloc[0] #change the header\n",
    "cancer_train_PM = cancer_train_PM[2:]\n",
    "cancer_train_PM['set'] = 'Train'\n",
    "cancer_train_PM.reset_index(inplace=True)\n",
    "cancer_train_PM.rename({'index':'patient'}, axis=1, inplace=True) #merge ID\n",
    "cancer_train_PM = cancer_train_PM.loc[:,~cancer_train_PM.columns.duplicated()] #duplicated columns in the dataset :/\n",
    "\n",
    "\n",
    "cancer_test_PM = cancer_test_PM.T\n",
    "cancer_test_PM.columns = cancer_test_PM.iloc[0]\n",
    "cancer_test_PM = cancer_test_PM[2:]\n",
    "cancer_test_PM['set'] = 'Test'\n",
    "cancer_test_PM.reset_index(inplace=True)\n",
    "cancer_test_PM.rename({'index':'patient'}, axis=1, inplace=True)\n",
    "cancer_test_PM = cancer_test_PM.loc[:,~cancer_test_PM.columns.duplicated()]\n",
    "\n",
    "print(cancer_train_PM.shape, cancer_test_PM.shape)\n",
    "\n",
    "#Vertical stack of train and test set so the result has all shared genes (inner join)\n",
    "vertical_stack = pd.concat([cancer_train_PM, cancer_test_PM], join=\"inner\", keys=['Train', 'Test']) "
   ]
  },
  {
   "cell_type": "code",
   "execution_count": 48,
   "metadata": {},
   "outputs": [
    {
     "name": "stdout",
     "output_type": "stream",
     "text": [
      "True\n"
     ]
    }
   ],
   "source": [
    "#Prepare dfs for merging on same patient column. Has to both be 'str' dtypes to make this work\n",
    "cancer_targets = cancer_targets.astype({'patient': 'str'})\n",
    "vertical_stack.patient = vertical_stack.patient.astype('str')\n",
    "print(cancer_targets['patient'].dtype == vertical_stack['patient'].dtype)\n",
    "\n",
    "#Horizontal Merge with the targets. Prioritize targets for merge\n",
    "horizontal_merge = pd.merge(vertical_stack,cancer_targets, on='patient', how='inner')"
   ]
  },
  {
   "cell_type": "code",
   "execution_count": 41,
   "metadata": {},
   "outputs": [],
   "source": [
    "#Assign train and test sets\n",
    "dftrain = horizontal_merge[horizontal_merge['set'] == 'Train'].iloc[:,1:-2]\n",
    "train_target = horizontal_merge[horizontal_merge['set'] == 'Train'].iloc[:,-1]\n",
    "dftest = horizontal_merge[horizontal_merge['set'] == 'Test'].iloc[:,1:-2]\n",
    "test_target = horizontal_merge[horizontal_merge['set'] == 'Test'].iloc[:,-1]"
   ]
  },
  {
   "cell_type": "code",
   "execution_count": 42,
   "metadata": {},
   "outputs": [
    {
     "data": {
      "text/html": [
       "<div>\n",
       "<style scoped>\n",
       "    .dataframe tbody tr th:only-of-type {\n",
       "        vertical-align: middle;\n",
       "    }\n",
       "\n",
       "    .dataframe tbody tr th {\n",
       "        vertical-align: top;\n",
       "    }\n",
       "\n",
       "    .dataframe thead th {\n",
       "        text-align: right;\n",
       "    }\n",
       "</style>\n",
       "<table border=\"1\" class=\"dataframe\">\n",
       "  <thead>\n",
       "    <tr style=\"text-align: right;\">\n",
       "      <th></th>\n",
       "      <th>AFFX-BioC-5_at (endogenous control)</th>\n",
       "      <th>hum_alu_at (miscellaneous control)</th>\n",
       "      <th>AFFX-DapX-M_at (endogenous control)</th>\n",
       "      <th>AFFX-LysX-5_at (endogenous control)</th>\n",
       "      <th>AFFX-HUMISGF3A/M97935_MB_at (endogenous control)</th>\n",
       "      <th>AFFX-HUMISGF3A/M97935_3_at (endogenous control)</th>\n",
       "      <th>AFFX-HUMRGE/M10098_5_at (endogenous control)</th>\n",
       "      <th>AFFX-HUMRGE/M10098_M_at (endogenous control)</th>\n",
       "      <th>AFFX-HUMRGE/M10098_3_at (endogenous control)</th>\n",
       "      <th>AFFX-HUMGAPDH/M33197_5_at (endogenous control)</th>\n",
       "      <th>...</th>\n",
       "      <th>HLA CLASS II HISTOCOMPATIBILITY ANTIGEN; DQ(W1.1) BETA CHAIN PRECURSOR</th>\n",
       "      <th>Integrase gene extracted from Human endogenous retrovirus H clone g10.34 integrase and putative envelope protein genes; partial cds</th>\n",
       "      <th>Ifp35 gene extracted from Human BRCA1; Rho7 and vatI genes; and ipf35 gene; partial cds</th>\n",
       "      <th>INHA Inhibin; alpha</th>\n",
       "      <th>S100A9 S100 calcium-binding protein A9 (calgranulin B)</th>\n",
       "      <th>PLGL Plasminogen-like protein</th>\n",
       "      <th>Transcription factor Stat5b (stat5b) mRNA</th>\n",
       "      <th>Breast epithelial antigen BA46 mRNA</th>\n",
       "      <th>TUBULIN ALPHA-4 CHAIN</th>\n",
       "      <th>GB DEF = Glycophorin Sta (type A) exons 3 and 4; partial</th>\n",
       "    </tr>\n",
       "  </thead>\n",
       "  <tbody>\n",
       "    <tr>\n",
       "      <th>0</th>\n",
       "      <td>88</td>\n",
       "      <td>15091</td>\n",
       "      <td>311</td>\n",
       "      <td>21</td>\n",
       "      <td>215</td>\n",
       "      <td>797</td>\n",
       "      <td>14538</td>\n",
       "      <td>9738</td>\n",
       "      <td>8529</td>\n",
       "      <td>15076</td>\n",
       "      <td>...</td>\n",
       "      <td>2762</td>\n",
       "      <td>346</td>\n",
       "      <td>349</td>\n",
       "      <td>61</td>\n",
       "      <td>273</td>\n",
       "      <td>384</td>\n",
       "      <td>185</td>\n",
       "      <td>511</td>\n",
       "      <td>389</td>\n",
       "      <td>191</td>\n",
       "    </tr>\n",
       "    <tr>\n",
       "      <th>1</th>\n",
       "      <td>283</td>\n",
       "      <td>11038</td>\n",
       "      <td>134</td>\n",
       "      <td>-21</td>\n",
       "      <td>116</td>\n",
       "      <td>433</td>\n",
       "      <td>615</td>\n",
       "      <td>115</td>\n",
       "      <td>1518</td>\n",
       "      <td>19448</td>\n",
       "      <td>...</td>\n",
       "      <td>1567</td>\n",
       "      <td>290</td>\n",
       "      <td>214</td>\n",
       "      <td>-28</td>\n",
       "      <td>143</td>\n",
       "      <td>231</td>\n",
       "      <td>169</td>\n",
       "      <td>837</td>\n",
       "      <td>442</td>\n",
       "      <td>76</td>\n",
       "    </tr>\n",
       "    <tr>\n",
       "      <th>2</th>\n",
       "      <td>309</td>\n",
       "      <td>16692</td>\n",
       "      <td>378</td>\n",
       "      <td>67</td>\n",
       "      <td>476</td>\n",
       "      <td>1474</td>\n",
       "      <td>5669</td>\n",
       "      <td>3272</td>\n",
       "      <td>3668</td>\n",
       "      <td>27410</td>\n",
       "      <td>...</td>\n",
       "      <td>1090</td>\n",
       "      <td>220</td>\n",
       "      <td>464</td>\n",
       "      <td>513</td>\n",
       "      <td>238</td>\n",
       "      <td>720</td>\n",
       "      <td>315</td>\n",
       "      <td>1199</td>\n",
       "      <td>168</td>\n",
       "      <td>228</td>\n",
       "    </tr>\n",
       "    <tr>\n",
       "      <th>3</th>\n",
       "      <td>12</td>\n",
       "      <td>15763</td>\n",
       "      <td>268</td>\n",
       "      <td>43</td>\n",
       "      <td>155</td>\n",
       "      <td>415</td>\n",
       "      <td>4850</td>\n",
       "      <td>2293</td>\n",
       "      <td>2569</td>\n",
       "      <td>14920</td>\n",
       "      <td>...</td>\n",
       "      <td>1708</td>\n",
       "      <td>430</td>\n",
       "      <td>342</td>\n",
       "      <td>142</td>\n",
       "      <td>277</td>\n",
       "      <td>307</td>\n",
       "      <td>240</td>\n",
       "      <td>835</td>\n",
       "      <td>174</td>\n",
       "      <td>126</td>\n",
       "    </tr>\n",
       "    <tr>\n",
       "      <th>4</th>\n",
       "      <td>168</td>\n",
       "      <td>18128</td>\n",
       "      <td>118</td>\n",
       "      <td>-8</td>\n",
       "      <td>122</td>\n",
       "      <td>483</td>\n",
       "      <td>1284</td>\n",
       "      <td>2731</td>\n",
       "      <td>316</td>\n",
       "      <td>14653</td>\n",
       "      <td>...</td>\n",
       "      <td>1503</td>\n",
       "      <td>159</td>\n",
       "      <td>159</td>\n",
       "      <td>71</td>\n",
       "      <td>134</td>\n",
       "      <td>178</td>\n",
       "      <td>156</td>\n",
       "      <td>649</td>\n",
       "      <td>504</td>\n",
       "      <td>56</td>\n",
       "    </tr>\n",
       "  </tbody>\n",
       "</table>\n",
       "<p>5 rows × 4332 columns</p>\n",
       "</div>"
      ],
      "text/plain": [
       "  AFFX-BioC-5_at (endogenous control) hum_alu_at (miscellaneous control)  \\\n",
       "0                                  88                              15091   \n",
       "1                                 283                              11038   \n",
       "2                                 309                              16692   \n",
       "3                                  12                              15763   \n",
       "4                                 168                              18128   \n",
       "\n",
       "  AFFX-DapX-M_at (endogenous control) AFFX-LysX-5_at (endogenous control)  \\\n",
       "0                                 311                                  21   \n",
       "1                                 134                                 -21   \n",
       "2                                 378                                  67   \n",
       "3                                 268                                  43   \n",
       "4                                 118                                  -8   \n",
       "\n",
       "  AFFX-HUMISGF3A/M97935_MB_at (endogenous control)  \\\n",
       "0                                              215   \n",
       "1                                              116   \n",
       "2                                              476   \n",
       "3                                              155   \n",
       "4                                              122   \n",
       "\n",
       "  AFFX-HUMISGF3A/M97935_3_at (endogenous control)  \\\n",
       "0                                             797   \n",
       "1                                             433   \n",
       "2                                            1474   \n",
       "3                                             415   \n",
       "4                                             483   \n",
       "\n",
       "  AFFX-HUMRGE/M10098_5_at (endogenous control)  \\\n",
       "0                                        14538   \n",
       "1                                          615   \n",
       "2                                         5669   \n",
       "3                                         4850   \n",
       "4                                         1284   \n",
       "\n",
       "  AFFX-HUMRGE/M10098_M_at (endogenous control)  \\\n",
       "0                                         9738   \n",
       "1                                          115   \n",
       "2                                         3272   \n",
       "3                                         2293   \n",
       "4                                         2731   \n",
       "\n",
       "  AFFX-HUMRGE/M10098_3_at (endogenous control)  \\\n",
       "0                                         8529   \n",
       "1                                         1518   \n",
       "2                                         3668   \n",
       "3                                         2569   \n",
       "4                                          316   \n",
       "\n",
       "  AFFX-HUMGAPDH/M33197_5_at (endogenous control)  ...  \\\n",
       "0                                          15076  ...   \n",
       "1                                          19448  ...   \n",
       "2                                          27410  ...   \n",
       "3                                          14920  ...   \n",
       "4                                          14653  ...   \n",
       "\n",
       "  HLA CLASS II HISTOCOMPATIBILITY ANTIGEN; DQ(W1.1) BETA CHAIN PRECURSOR  \\\n",
       "0                                               2762                       \n",
       "1                                               1567                       \n",
       "2                                               1090                       \n",
       "3                                               1708                       \n",
       "4                                               1503                       \n",
       "\n",
       "  Integrase gene extracted from Human endogenous retrovirus H clone g10.34 integrase and putative envelope protein genes; partial cds  \\\n",
       "0                                                346                                                                                    \n",
       "1                                                290                                                                                    \n",
       "2                                                220                                                                                    \n",
       "3                                                430                                                                                    \n",
       "4                                                159                                                                                    \n",
       "\n",
       "  Ifp35 gene extracted from Human BRCA1; Rho7 and vatI genes; and ipf35 gene; partial cds  \\\n",
       "0                                                349                                        \n",
       "1                                                214                                        \n",
       "2                                                464                                        \n",
       "3                                                342                                        \n",
       "4                                                159                                        \n",
       "\n",
       "  INHA Inhibin; alpha S100A9 S100 calcium-binding protein A9 (calgranulin B)  \\\n",
       "0                  61                                                273       \n",
       "1                 -28                                                143       \n",
       "2                 513                                                238       \n",
       "3                 142                                                277       \n",
       "4                  71                                                134       \n",
       "\n",
       "  PLGL Plasminogen-like protein Transcription factor Stat5b (stat5b) mRNA  \\\n",
       "0                           384                                       185   \n",
       "1                           231                                       169   \n",
       "2                           720                                       315   \n",
       "3                           307                                       240   \n",
       "4                           178                                       156   \n",
       "\n",
       "  Breast epithelial antigen BA46 mRNA TUBULIN ALPHA-4 CHAIN  \\\n",
       "0                                 511                   389   \n",
       "1                                 837                   442   \n",
       "2                                1199                   168   \n",
       "3                                 835                   174   \n",
       "4                                 649                   504   \n",
       "\n",
       "  GB DEF = Glycophorin Sta (type A) exons 3 and 4; partial  \n",
       "0                                                191        \n",
       "1                                                 76        \n",
       "2                                                228        \n",
       "3                                                126        \n",
       "4                                                 56        \n",
       "\n",
       "[5 rows x 4332 columns]"
      ]
     },
     "execution_count": 42,
     "metadata": {},
     "output_type": "execute_result"
    }
   ],
   "source": [
    "dftrain.head(5)"
   ]
  },
  {
   "cell_type": "markdown",
   "metadata": {},
   "source": [
    "# PREPROCESSING AND FEATURE SELECTION"
   ]
  },
  {
   "cell_type": "code",
   "execution_count": 73,
   "metadata": {},
   "outputs": [],
   "source": [
    "#Initialize a scalerlater to be used on test set as well.\n",
    "scaler = StandardScaler().fit(dftrain)\n",
    "dftrain = pd.DataFrame(scaler.transform(dftrain), columns=dftrain.columns)"
   ]
  },
  {
   "cell_type": "markdown",
   "metadata": {},
   "source": [
    "# PRINCIPAL COMPONENT ANALYSIS"
   ]
  },
  {
   "cell_type": "code",
   "execution_count": 71,
   "metadata": {},
   "outputs": [
    {
     "name": "stdout",
     "output_type": "stream",
     "text": [
      "[0.16486887 0.13346607 0.07331193]\n"
     ]
    }
   ],
   "source": [
    "#Let's do a pca first \n",
    "x = dftrain\n",
    "\n",
    "pca = PCA(n_components=3)\n",
    "pca.fit_transform(x)\n",
    "print(pca.explained_variance_ratio_) # Small variance explained\n",
    "\n",
    "principalDf = pd.DataFrame(data = pca.fit_transform(x), \n",
    "                           columns = ['pc1', 'pc2', 'pc3'])"
   ]
  },
  {
   "cell_type": "code",
   "execution_count": 72,
   "metadata": {},
   "outputs": [
    {
     "data": {
      "image/png": "[encoded data removed]",
      "text/plain": [
       "<Figure size 720x576 with 1 Axes>"
      ]
     },
     "metadata": {
      "needs_background": "light"
     },
     "output_type": "display_data"
    }
   ],
   "source": [
    "finalDf = pd.concat([principalDf, train_target], axis = 1)\n",
    "\n",
    "fig = plt.figure(figsize=(10,8))\n",
    "ax = fig.add_subplot(111, projection='3d')\n",
    "colors = {'ALL':'red', 'AML':'blue'}\n",
    "ax.scatter(principalDf.pc1, principalDf.pc2, principalDf.pc3, \n",
    "           c=train_target.apply(lambda x: colors[x]))\n",
    "plt.title('First 3 Principal Components after PCA')\n",
    "ax.set_xlabel('PC1')\n",
    "ax.set_ylabel('PC2')\n",
    "ax.set_zlabel('PC3')\n",
    "ax.view_init(30, 40)\n",
    "plt.tight_layout\n",
    "plt.show()"
   ]
  },
  {
   "cell_type": "markdown",
   "metadata": {},
   "source": [
    "The above plot shows relatively clear separation of the two cancer types along the first 3 components as defined by PCA. "
   ]
  },
  {
   "cell_type": "markdown",
   "metadata": {},
   "source": [
    "Some classifiers at work without feature selection..."
   ]
  },
  {
   "cell_type": "code",
   "execution_count": 68,
   "metadata": {},
   "outputs": [
    {
     "name": "stdout",
     "output_type": "stream",
     "text": [
      "\n",
      "Results for Logistic Regression:\n",
      "\n",
      "              precision    recall  f1-score   support\n",
      "\n",
      "         ALL       1.00      0.15      0.26        20\n",
      "         AML       0.45      1.00      0.62        14\n",
      "\n",
      "    accuracy                           0.50        34\n",
      "   macro avg       0.73      0.57      0.44        34\n",
      "weighted avg       0.77      0.50      0.41        34\n",
      "\n",
      "[[ 3 17]\n",
      " [ 0 14]]\n",
      "\n",
      "Results for K Nearest Neighbours:\n",
      "\n",
      "              precision    recall  f1-score   support\n",
      "\n",
      "         ALL       0.62      1.00      0.77        20\n",
      "         AML       1.00      0.14      0.25        14\n",
      "\n",
      "    accuracy                           0.65        34\n",
      "   macro avg       0.81      0.57      0.51        34\n",
      "weighted avg       0.78      0.65      0.56        34\n",
      "\n",
      "[[20  0]\n",
      " [12  2]]\n",
      "\n",
      "Results for Support Vector Machine:\n",
      "\n",
      "              precision    recall  f1-score   support\n",
      "\n",
      "         ALL       0.59      1.00      0.74        20\n",
      "         AML       0.00      0.00      0.00        14\n",
      "\n",
      "    accuracy                           0.59        34\n",
      "   macro avg       0.29      0.50      0.37        34\n",
      "weighted avg       0.35      0.59      0.44        34\n",
      "\n",
      "[[20  0]\n",
      " [14  0]]\n",
      "\n",
      "Results for Random Forest:\n",
      "\n",
      "              precision    recall  f1-score   support\n",
      "\n",
      "         ALL       0.91      0.50      0.65        20\n",
      "         AML       0.57      0.93      0.70        14\n",
      "\n",
      "    accuracy                           0.68        34\n",
      "   macro avg       0.74      0.71      0.67        34\n",
      "weighted avg       0.77      0.68      0.67        34\n",
      "\n",
      "[[10 10]\n",
      " [ 1 13]]\n"
     ]
    },
    {
     "name": "stderr",
     "output_type": "stream",
     "text": [
      "/Users/mattijsbeirinckx/opt/anaconda3/lib/python3.7/site-packages/sklearn/metrics/_classification.py:1272: UndefinedMetricWarning: Precision and F-score are ill-defined and being set to 0.0 in labels with no predicted samples. Use `zero_division` parameter to control this behavior.\n",
      "  _warn_prf(average, modifier, msg_start, len(result))\n"
     ]
    },
    {
     "name": "stdout",
     "output_type": "stream",
     "text": [
      "      Feature_Importance                                          Gene_Name\n",
      "2775            0.024368                              PROTEASOME IOTA CHAIN\n",
      "3998            0.022640  CD36 CD36 antigen (collagen type I receptor; t...\n",
      "3653            0.020636  C-myb gene extracted from Human (c-myb) gene; ...\n",
      "764             0.018690                              CATHEPSIN G PRECURSOR\n",
      "1194            0.017738        CD33 CD33 antigen (differentiation antigen)\n",
      "3896            0.017276                       ELA2 Elastatse 2; neutrophil\n",
      "157             0.016968                                 ADM Adrenomedullin\n",
      "1578            0.015476                                    Azurocidin gene\n",
      "3984            0.015429                 PFC Properdin P factor; complement\n",
      "552             0.015179                         KIAA0268 gene; partial cds\n",
      "1070            0.014107                             Inducible protein mRNA\n",
      "1025            0.014012                         Importin beta subunit mRNA\n",
      "2716            0.013508                                CTPS CTP synthetase\n",
      "802             0.013455      Protein tyrosine kinase related mRNA sequence\n",
      "4008            0.013244  TFAP4 Transcription factor AP-4 (activating en...\n",
      "1231            0.012806  CST3 Cystatin C (amyloid angiopathy and cerebr...\n",
      "1129            0.012621  FCER2 Fc fragment of IgE; low affinity II; rec...\n",
      "3809            0.012126                               LTB Lymphotoxin-beta\n",
      "3805            0.012011   APLP2 Amyloid beta (A4) precursor-like protein 2\n",
      "3114            0.011221                                              Zyxin\n",
      "1187            0.010000      TP53 Tumor protein p53 (Li-Fraumeni syndrome)\n",
      "2772            0.010000                                  CD22 CD22 antigen\n",
      "3863            0.010000                   TCRA T cell receptor alpha-chain\n",
      "1544            0.010000                                        B94 PROTEIN\n",
      "703             0.009339                                              Mac25\n",
      "2928            0.008827  REL V-rel avian reticuloendotheliosis viral on...\n",
      "1390            0.008766     CTSD Cathepsin D (lysosomal aspartyl protease)\n",
      "2891            0.008766  CHRNA7 Cholinergic receptor; nicotinic; alpha ...\n",
      "254             0.008766                                      KIAA0063 gene\n",
      "3431            0.008593  Negative regulator of programmed cell death IC...\n",
      "768             0.008593  SPTAN1 Spectrin; alpha; non-erythrocytic 1 (al...\n",
      "1568            0.008593                  COL9A2 Collagen; type IX; alpha 2\n",
      "1841            0.008593                                        (AF1q) mRNA\n",
      "4097            0.008304          GB DEF = Polyadenylate binding protein II\n",
      "3539            0.008304   PROBABLE G PROTEIN-COUPLED RECEPTOR LCR1 HOMOLOG\n",
      "3268            0.008081                         GB DEF = CD36 gene exon 15\n",
      "2122            0.008081                Bradykinin receptor B1 subtype mRNA\n",
      "620             0.008081             Heat Shock Protein; 70 Kda (Gb:Y00371)\n",
      "1328            0.008021                            FAH Fumarylacetoacetate\n",
      "1543            0.007912                                    CCND3 Cyclin D3\n",
      "2147            0.007835               Leukotriene C4 synthase (LTC4S) gene\n",
      "1484            0.007835                     CDC25A Cell division cycle 25A\n",
      "1342            0.007835  LGALS3 Lectin; galactoside-binding; soluble; 3...\n",
      "2615            0.007835  GJB1 Gap junction protein; beta 1; 32kD (conne...\n",
      "369             0.007798                                      KIAA0148 gene\n",
      "2710            0.007738                              VIL2 Villin 2 (ezrin)\n",
      "2941            0.007738                         P130 mRNA for 130K protein\n",
      "1553            0.007618   Pancreatic lipase related protein 1 (PLRP1) mRNA\n",
      "505             0.007618                         KIAA0239 gene; partial cds\n",
      "2917            0.007618                 RETINOBLASTOMA BINDING PROTEIN P48\n",
      "\n",
      "Results for Multi Layer Perceptron:\n",
      "\n",
      "              precision    recall  f1-score   support\n",
      "\n",
      "         ALL       1.00      0.50      0.67        20\n",
      "         AML       0.58      1.00      0.74        14\n",
      "\n",
      "    accuracy                           0.71        34\n",
      "   macro avg       0.79      0.75      0.70        34\n",
      "weighted avg       0.83      0.71      0.70        34\n",
      "\n",
      "[[10 10]\n",
      " [ 0 14]]\n",
      "\n",
      "Results for Gaussian Naive Bayes:\n",
      "\n",
      "              precision    recall  f1-score   support\n",
      "\n",
      "         ALL       0.91      1.00      0.95        20\n",
      "         AML       1.00      0.86      0.92        14\n",
      "\n",
      "    accuracy                           0.94        34\n",
      "   macro avg       0.95      0.93      0.94        34\n",
      "weighted avg       0.95      0.94      0.94        34\n",
      "\n",
      "[[20  0]\n",
      " [ 2 12]]\n"
     ]
    }
   ],
   "source": [
    "classifiers = [LogisticRegression(),\n",
    "               KNeighborsClassifier(),\n",
    "               SVC(),\n",
    "               RandomForestClassifier(),\n",
    "               MLPClassifier(),\n",
    "               GaussianNB()\n",
    "              ]\n",
    "names = ['Logistic Regression',\n",
    "         'K Nearest Neighbours', \n",
    "         'Support Vector Machine', \n",
    "         'Random Forest', \n",
    "         'Multi Layer Perceptron', \n",
    "         'Gaussian Naive Bayes'\n",
    "        ]\n",
    "\n",
    "for name, classifier in zip(names,classifiers):\n",
    "    \n",
    "    #fit\n",
    "    clf = classifier.fit(dftrain, train_target)\n",
    "    \n",
    "    #predictions on test set\n",
    "    pred_targets = clf.predict(dftest)\n",
    "    \n",
    "    #print results\n",
    "    print(f'\\nResults for {name}:\\n')\n",
    "    print(classification_report(test_target,pred_targets))\n",
    "    print(confusion_matrix(test_target,pred_targets))\n",
    "    \n",
    "    if name == 'Random Forest':\n",
    "        features = clf.feature_importances_\n",
    "        feature_df = pd.DataFrame({'Feature_Importance' : features, 'Gene_Name' : dftrain.columns})\n",
    "        \n",
    "        print(feature_df.sort_values(by='Feature_Importance', ascending=False).head(50))"
   ]
  },
  {
   "cell_type": "code",
   "execution_count": null,
   "metadata": {},
   "outputs": [],
   "source": []
  },
  {
   "cell_type": "code",
   "execution_count": null,
   "metadata": {},
   "outputs": [],
   "source": []
  }
 ],
 "metadata": {
  "kernelspec": {
   "display_name": "Python 3",
   "language": "python",
   "name": "python3"
  },
  "language_info": {
   "codemirror_mode": {
    "name": "ipython",
    "version": 3
   },
   "file_extension": ".py",
   "mimetype": "text/x-python",
   "name": "python",
   "nbconvert_exporter": "python",
   "pygments_lexer": "ipython3",
   "version": "3.7.5"
  }
 },
 "nbformat": 4,
 "nbformat_minor": 4
}
